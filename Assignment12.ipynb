{
 "cells": [
  {
   "cell_type": "code",
   "execution_count": 1,
   "id": "a4fd3f53-1f95-49a3-8af3-c865dac2d097",
   "metadata": {},
   "outputs": [],
   "source": [
    "import os \n",
    "import sys"
   ]
  },
  {
   "cell_type": "code",
   "execution_count": 47,
   "id": "506d1e59-909f-4f1a-b694-6dc798ce8f5b",
   "metadata": {},
   "outputs": [
    {
     "name": "stdin",
     "output_type": "stream",
     "text": [
      "Enter a number 5\n"
     ]
    },
    {
     "name": "stdout",
     "output_type": "stream",
     "text": [
      "5 is an Armstrong number\n"
     ]
    }
   ],
   "source": [
    "given_number=input(\"Enter a number\")\n",
    "if not given_number.isnumeric() :\n",
    "    print(\"It is an invalid entry.Don't use non-numeric, float, or negative values!\")\n",
    "else:\n",
    "    p_of_number=len(str(given_number))\n",
    "    sum_of_digits=0\n",
    "    for digit in str(given_number):\n",
    "        sum_of_digits += int(digit)**p_of_number\n",
    "    if sum_of_digits == int(given_number):\n",
    "        print(f\"{given_number} is an Armstrong number\")\n",
    "    else:\n",
    "        print(f\"{given_number} is not an Armstrong number\")\n"
   ]
  },
  {
   "cell_type": "code",
   "execution_count": null,
   "id": "4c8df4b9-438e-419d-a5da-7f2e616d06ac",
   "metadata": {},
   "outputs": [],
   "source": []
  }
 ],
 "metadata": {
  "kernelspec": {
   "display_name": "Python 3 (ipykernel)",
   "language": "python",
   "name": "python3"
  },
  "language_info": {
   "codemirror_mode": {
    "name": "ipython",
    "version": 3
   },
   "file_extension": ".py",
   "mimetype": "text/x-python",
   "name": "python",
   "nbconvert_exporter": "python",
   "pygments_lexer": "ipython3",
   "version": "3.12.3"
  }
 },
 "nbformat": 4,
 "nbformat_minor": 5
}
