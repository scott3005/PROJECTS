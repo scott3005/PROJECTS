{
 "cells": [
  {
   "cell_type": "code",
   "execution_count": 1,
   "id": "00aedd64-eabc-4141-a4a2-80b64dfe0bd0",
   "metadata": {},
   "outputs": [],
   "source": [
    "import os \n",
    "import sys"
   ]
  },
  {
   "cell_type": "code",
   "execution_count": 19,
   "id": "60233f8b-4c67-4d99-b916-fa86302bd254",
   "metadata": {},
   "outputs": [],
   "source": [
    "mylist = [1,3,7,4,3,0,3,6,3,1,1,1]"
   ]
  },
  {
   "cell_type": "code",
   "execution_count": 24,
   "id": "b5094195-a1c3-4811-9355-18880531fd75",
   "metadata": {},
   "outputs": [
    {
     "data": {
      "text/plain": [
       "{1: [0, 4, 6, 7], 4: [1, 3]}"
      ]
     },
     "execution_count": 24,
     "metadata": {},
     "output_type": "execute_result"
    }
   ],
   "source": [
    "# tuple(value,frequency)\n",
    "frequency_values = {}\n",
    "\n",
    "for element in set(mylist):\n",
    "    frequency = mylist.count(element)\n",
    "    if frequency not in frequency_values:\n",
    "        frequency_values.update({frequency:[element]})\n",
    "    else:\n",
    "        frequency_values[frequency].append(element)\n",
    "\n",
    "frequency_values"
   ]
  },
  {
   "cell_type": "code",
   "execution_count": 32,
   "id": "df423d50-f2c1-4096-9d9d-d4db7c870a07",
   "metadata": {},
   "outputs": [
    {
     "name": "stdout",
     "output_type": "stream",
     "text": [
      "The most frequent numbers is 1 and it was 4 times repeated\n",
      "The most frequent numbers is 3 and it was 4 times repeated\n"
     ]
    }
   ],
   "source": [
    "max_fr=max(frequency_values.keys())\n",
    "for values in frequency_values[max_fr]:\n",
    "    # max_fr = item if max_fr <item else max_fr\n",
    "    print(f\"The most frequent numbers is {values} and it was {max_fr} times repeated\")"
   ]
  },
  {
   "cell_type": "code",
   "execution_count": null,
   "id": "e5602969-95df-4c5c-9a36-a15866a8ee52",
   "metadata": {},
   "outputs": [],
   "source": []
  }
 ],
 "metadata": {
  "kernelspec": {
   "display_name": "Python 3 (ipykernel)",
   "language": "python",
   "name": "python3"
  },
  "language_info": {
   "codemirror_mode": {
    "name": "ipython",
    "version": 3
   },
   "file_extension": ".py",
   "mimetype": "text/x-python",
   "name": "python",
   "nbconvert_exporter": "python",
   "pygments_lexer": "ipython3",
   "version": "3.12.3"
  }
 },
 "nbformat": 4,
 "nbformat_minor": 5
}
