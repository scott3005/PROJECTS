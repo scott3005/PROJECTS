{
 "cells": [
  {
   "cell_type": "code",
   "execution_count": 1,
   "id": "4ec17f31-f374-4941-ab3f-6653de697223",
   "metadata": {},
   "outputs": [],
   "source": [
    "import os\n",
    "import sys\n",
    "data = [ 5, 'Python',3.14,-2,'Data',True,0,12.5,9,'AI',None,4]\n",
    "students=[\n",
    "{'name':'Ally','score':[42,48]},\n",
    "{'name':'Betty','score':[68,45]},\n",
    "{'name':'Kirbie','score':[90,85]},\n",
    "{'name':'Samuel','score':[35,55]},    \n",
    "]"
   ]
  },
  {
   "cell_type": "code",
   "execution_count": 17,
   "id": "aa7dfcd8-e6b3-478c-b154-67aef0205d57",
   "metadata": {},
   "outputs": [],
   "source": [
    "average=list(map(lambda x: (x['name'],sum(x['score'])/2),students))\n",
    "pass_if=[ {'name':x[0],'mean_score':x[1],'needed_points':(150-x[1]*2) if x[1]<50 else 50} for x in average  ]"
   ]
  },
  {
   "cell_type": "code",
   "execution_count": 18,
   "id": "f20ca909-ac53-4f8f-9f96-83af37a81cf2",
   "metadata": {},
   "outputs": [
    {
     "data": {
      "text/plain": [
       "[{'name': 'Ally', 'mean_score': 45.0, 'needed_points': 60.0},\n",
       " {'name': 'Betty', 'mean_score': 56.5, 'needed_points': 50},\n",
       " {'name': 'Kirbie', 'mean_score': 87.5, 'needed_points': 50},\n",
       " {'name': 'Samuel', 'mean_score': 45.0, 'needed_points': 60.0}]"
      ]
     },
     "execution_count": 18,
     "metadata": {},
     "output_type": "execute_result"
    }
   ],
   "source": [
    "average\n",
    "pass_if"
   ]
  },
  {
   "cell_type": "code",
   "execution_count": null,
   "id": "0277f22c-4f61-45d7-a558-ba6b24dde1f0",
   "metadata": {},
   "outputs": [],
   "source": [
    "# (50-score)*2 +50 to pass the lesson"
   ]
  }
 ],
 "metadata": {
  "kernelspec": {
   "display_name": "Python 3 (ipykernel)",
   "language": "python",
   "name": "python3"
  },
  "language_info": {
   "codemirror_mode": {
    "name": "ipython",
    "version": 3
   },
   "file_extension": ".py",
   "mimetype": "text/x-python",
   "name": "python",
   "nbconvert_exporter": "python",
   "pygments_lexer": "ipython3",
   "version": "3.12.3"
  }
 },
 "nbformat": 4,
 "nbformat_minor": 5
}
