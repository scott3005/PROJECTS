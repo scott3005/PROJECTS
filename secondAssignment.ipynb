{
 "cells": [
  {
   "cell_type": "code",
   "execution_count": 1,
   "id": "dd3c59be-56ba-4fe9-9211-37c02149b4cb",
   "metadata": {},
   "outputs": [],
   "source": [
    "import os \n",
    "import sys\n"
   ]
  },
  {
   "cell_type": "code",
   "execution_count": 2,
   "id": "e27d75c9-ee08-4da3-8be3-3695ab3fb969",
   "metadata": {},
   "outputs": [],
   "source": [
    "age = None\n",
    "chronic = None\n",
    "immune = None \n",
    "risk = None"
   ]
  },
  {
   "cell_type": "code",
   "execution_count": 3,
   "id": "4d2ef723-c36b-4893-b61f-97aebf501be2",
   "metadata": {},
   "outputs": [],
   "source": [
    "questions = [\"Are you a cigarette addict older than 75 years old? yes/no?:\",\n",
    "\"Do you have a severe chronic disease? yes/no?:\",\n",
    "\"Is your immune system too weak? yes/no?:\"]\n",
    "answers = [age,chronic,immune]"
   ]
  },
  {
   "cell_type": "code",
   "execution_count": 29,
   "id": "b36eaa52-ea90-492a-a427-17c1666181ad",
   "metadata": {},
   "outputs": [
    {
     "name": "stdin",
     "output_type": "stream",
     "text": [
      "Are you a cigarette addict older than 75 years old? yes/no?: yes\n",
      "Do you have a severe chronic disease? yes/no?: yes\n",
      "Is your immune system too weak? yes/no?: yes\n"
     ]
    }
   ],
   "source": [
    "index=0\n",
    "while index < len(questions):\n",
    "    answer = input(questions[index])\n",
    "    if answer == \"yes\" or answer == \"no\":\n",
    "        answers[index] = True if  (answer == \"yes\" ) else False\n",
    "        index += 1\n",
    "    else:\n",
    "        print(\"wrong input try again\")\n",
    "            "
   ]
  },
  {
   "cell_type": "code",
   "execution_count": 30,
   "id": "f031d0a6-d5f8-4249-8f61-b55d994ecc7c",
   "metadata": {},
   "outputs": [
    {
     "data": {
      "text/plain": [
       "[True, True, True, None]"
      ]
     },
     "execution_count": 30,
     "metadata": {},
     "output_type": "execute_result"
    }
   ],
   "source": [
    "answers"
   ]
  },
  {
   "cell_type": "code",
   "execution_count": 31,
   "id": "81409392-c6f0-4f24-98bb-f2dd521395b8",
   "metadata": {},
   "outputs": [
    {
     "name": "stdout",
     "output_type": "stream",
     "text": [
      "You have 0 chance to survive. \n"
     ]
    }
   ],
   "source": [
    "risk =  True if (answers[2] == True and answers[1] == False and answers[0] == False) or (True not in answers) else  False\n",
    "print(f\"You have { int(risk)} chance to survive. \")"
   ]
  },
  {
   "cell_type": "code",
   "execution_count": null,
   "id": "0d2309c2-bc1f-41a7-83c8-407827a103a9",
   "metadata": {},
   "outputs": [],
   "source": []
  }
 ],
 "metadata": {
  "kernelspec": {
   "display_name": "Python 3 (ipykernel)",
   "language": "python",
   "name": "python3"
  },
  "language_info": {
   "codemirror_mode": {
    "name": "ipython",
    "version": 3
   },
   "file_extension": ".py",
   "mimetype": "text/x-python",
   "name": "python",
   "nbconvert_exporter": "python",
   "pygments_lexer": "ipython3",
   "version": "3.12.3"
  }
 },
 "nbformat": 4,
 "nbformat_minor": 5
}
