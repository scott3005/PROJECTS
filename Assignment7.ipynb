{
 "cells": [
  {
   "cell_type": "code",
   "execution_count": 1,
   "id": "8611438d-1815-44e7-991b-3e897c8564c3",
   "metadata": {},
   "outputs": [],
   "source": [
    "import os \n",
    "import sys"
   ]
  },
  {
   "cell_type": "code",
   "execution_count": 2,
   "id": "4371704b-7856-4f2e-9586-38b298a34c76",
   "metadata": {},
   "outputs": [],
   "source": [
    "sales = {\n",
    "    \"cost_value\": 31.87,\n",
    "    \"sell_value\": 45.00,\n",
    "    \"inventory\": 1000\n",
    "}"
   ]
  },
  {
   "cell_type": "code",
   "execution_count": 4,
   "id": "da054ea5-8469-4407-be2a-e63c57eb3a3d",
   "metadata": {},
   "outputs": [
    {
     "data": {
      "text/plain": [
       "13000"
      ]
     },
     "execution_count": 4,
     "metadata": {},
     "output_type": "execute_result"
    }
   ],
   "source": [
    "total_profit = int(sales[\"sell_value\"]-sales[\"cost_value\"])*sales[\"inventory\"]\n",
    "total_profit"
   ]
  },
  {
   "cell_type": "code",
   "execution_count": 10,
   "id": "a8af57d8-4f85-4e63-a239-a47566c82ff3",
   "metadata": {},
   "outputs": [
    {
     "name": "stdout",
     "output_type": "stream",
     "text": [
      "$3.00\n",
      "$29.99\n",
      "$4.10\n",
      "$5.30\n"
     ]
    }
   ],
   "source": [
    "given_amounts = [ 3, 29.99, 4.1 ,5.3] \n",
    "for item in given_amounts:\n",
    "    print(\"$%.2f\"%item)"
   ]
  },
  {
   "cell_type": "code",
   "execution_count": null,
   "id": "fcec313f-dd47-432c-9bc5-f69c2a24eb3f",
   "metadata": {},
   "outputs": [],
   "source": []
  }
 ],
 "metadata": {
  "kernelspec": {
   "display_name": "Python 3 (ipykernel)",
   "language": "python",
   "name": "python3"
  },
  "language_info": {
   "codemirror_mode": {
    "name": "ipython",
    "version": 3
   },
   "file_extension": ".py",
   "mimetype": "text/x-python",
   "name": "python",
   "nbconvert_exporter": "python",
   "pygments_lexer": "ipython3",
   "version": "3.12.3"
  }
 },
 "nbformat": 4,
 "nbformat_minor": 5
}
