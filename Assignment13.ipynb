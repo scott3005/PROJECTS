{
 "cells": [
  {
   "cell_type": "raw",
   "id": "5ce5d384-47cb-4d7e-b58e-1b5cb46e4db2",
   "metadata": {},
   "source": [
    "import os \n",
    "import sys"
   ]
  },
  {
   "cell_type": "code",
   "execution_count": 1,
   "id": "d6ed3f05-448e-4418-995e-86d991aaff3a",
   "metadata": {},
   "outputs": [],
   "source": [
    "given_number=17"
   ]
  },
  {
   "cell_type": "code",
   "execution_count": 2,
   "id": "0be1c276-4717-4416-adfd-dc4a9dcc62a8",
   "metadata": {},
   "outputs": [],
   "source": [
    "def check_if_prime(num):\n",
    "    if num<=1:\n",
    "        return False\n",
    "    else:\n",
    "        for i in range(2,num):\n",
    "            if num%i==0:\n",
    "                return False\n",
    "        else:\n",
    "            return True"
   ]
  },
  {
   "cell_type": "code",
   "execution_count": 3,
   "id": "bffb0dfa-0ba9-4ccd-8c6c-a71c56b5b519",
   "metadata": {},
   "outputs": [
    {
     "data": {
      "text/plain": [
       "True"
      ]
     },
     "execution_count": 3,
     "metadata": {},
     "output_type": "execute_result"
    }
   ],
   "source": [
    "check_if_prime(17)"
   ]
  },
  {
   "cell_type": "code",
   "execution_count": null,
   "id": "389d46b7-63a2-4fac-9639-8cb1f68cd30b",
   "metadata": {},
   "outputs": [],
   "source": []
  }
 ],
 "metadata": {
  "kernelspec": {
   "display_name": "Python 3 (ipykernel)",
   "language": "python",
   "name": "python3"
  },
  "language_info": {
   "codemirror_mode": {
    "name": "ipython",
    "version": 3
   },
   "file_extension": ".py",
   "mimetype": "text/x-python",
   "name": "python",
   "nbconvert_exporter": "python",
   "pygments_lexer": "ipython3",
   "version": "3.12.3"
  }
 },
 "nbformat": 4,
 "nbformat_minor": 5
}
