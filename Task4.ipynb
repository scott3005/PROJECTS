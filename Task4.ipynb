{
 "cells": [
  {
   "cell_type": "code",
   "execution_count": 13,
   "id": "548f46b6-98a4-4262-ad33-e1ab5f96e27b",
   "metadata": {},
   "outputs": [],
   "source": [
    "import os\n",
    "import sys\n",
    "data = [ 5, 'Python',3.14,-2,'Data',True,0,12.5,9,'AI',None,4]"
   ]
  },
  {
   "cell_type": "code",
   "execution_count": 15,
   "id": "7733b299-d89a-429d-a36e-b824e7deeccb",
   "metadata": {},
   "outputs": [
    {
     "data": {
      "text/plain": [
       "[25, None, None, 4, None, None, 0, None, 81, None, None, 16]"
      ]
     },
     "execution_count": 15,
     "metadata": {},
     "output_type": "execute_result"
    }
   ],
   "source": [
    "clean_data=[  x**2 if type(x)==int else None for x in data  ] \n",
    "list(clean_data)"
   ]
  },
  {
   "cell_type": "code",
   "execution_count": null,
   "id": "65f334d4-5a59-47cd-b9c4-cb244a8ad8e3",
   "metadata": {},
   "outputs": [],
   "source": []
  }
 ],
 "metadata": {
  "kernelspec": {
   "display_name": "Python 3 (ipykernel)",
   "language": "python",
   "name": "python3"
  },
  "language_info": {
   "codemirror_mode": {
    "name": "ipython",
    "version": 3
   },
   "file_extension": ".py",
   "mimetype": "text/x-python",
   "name": "python",
   "nbconvert_exporter": "python",
   "pygments_lexer": "ipython3",
   "version": "3.12.3"
  }
 },
 "nbformat": 4,
 "nbformat_minor": 5
}
