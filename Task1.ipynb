{
 "cells": [
  {
   "cell_type": "code",
   "execution_count": 5,
   "id": "e0c5b10f-189c-447e-b8fa-4f5afcb76787",
   "metadata": {},
   "outputs": [
    {
     "name": "stdout",
     "output_type": "stream",
     "text": [
      "[]\n"
     ]
    }
   ],
   "source": [
    "import os\n",
    "import sys\n",
    "data = [ 5, 'Python',3.14,-2,'Data',True,0,12.5,9,'AI',None,4]\n",
    "numbers =filter(lambda x: True if type(x)==int else False,data)\n",
    "list(numbers)\n",
    "print(list(map(lambda x: x**2,numbers)))"
   ]
  },
  {
   "cell_type": "code",
   "execution_count": null,
   "id": "db640892-a952-4539-9b4d-e88da7e0062b",
   "metadata": {},
   "outputs": [],
   "source": []
  }
 ],
 "metadata": {
  "kernelspec": {
   "display_name": "Python 3 (ipykernel)",
   "language": "python",
   "name": "python3"
  },
  "language_info": {
   "codemirror_mode": {
    "name": "ipython",
    "version": 3
   },
   "file_extension": ".py",
   "mimetype": "text/x-python",
   "name": "python",
   "nbconvert_exporter": "python",
   "pygments_lexer": "ipython3",
   "version": "3.12.3"
  }
 },
 "nbformat": 4,
 "nbformat_minor": 5
}
