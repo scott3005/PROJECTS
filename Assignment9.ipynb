{
 "cells": [
  {
   "cell_type": "code",
   "execution_count": 1,
   "id": "71ba1be0-2774-44bb-8dca-3f7f2205aa05",
   "metadata": {},
   "outputs": [],
   "source": [
    "import os \n",
    "import sys\n"
   ]
  },
  {
   "cell_type": "code",
   "execution_count": 4,
   "id": "0b5ea2b7-b0af-404e-ba3a-3aa85ee2fc2c",
   "metadata": {},
   "outputs": [
    {
     "name": "stdout",
     "output_type": "stream",
     "text": [
      "welcome to the credential manager program.\n"
     ]
    },
    {
     "name": "stdin",
     "output_type": "stream",
     "text": [
      "enter the username for the password,enter q to quit: amina\n"
     ]
    },
    {
     "name": "stdout",
     "output_type": "stream",
     "text": [
      "Hello, amina! See you later.\n"
     ]
    },
    {
     "name": "stdin",
     "output_type": "stream",
     "text": [
      "enter the username for the password,enter q to quit: mustafa\n"
     ]
    },
    {
     "name": "stdout",
     "output_type": "stream",
     "text": [
      "Hello, mustafa! The password is : 293984*(\n"
     ]
    },
    {
     "name": "stdin",
     "output_type": "stream",
     "text": [
      "enter the username for the password,enter q to quit: q\n"
     ]
    }
   ],
   "source": [
    "users= {\n",
    "    \"mustafa\":\"293984*(\",\n",
    "    \"ahmet\":\"9393(**\",\n",
    "    \"mehmet\":\"99d8(*#\"}\n",
    "print(\"welcome to the credential manager program.\")\n",
    "while True:\n",
    "    \n",
    "    username = str(input(\"enter the username for the password,enter q to quit:\"))\n",
    "    if username =='q':\n",
    "        break\n",
    "    else:\n",
    "        if username in users:\n",
    "            print(f\"Hello, {username}! The password is : {users[username]}\")\n",
    "        else:\n",
    "            print(f\"Hello, {username}! See you later.\")\n"
   ]
  },
  {
   "cell_type": "code",
   "execution_count": null,
   "id": "11dd9cd7-8fa7-452b-a4c9-9c8a789d4ef1",
   "metadata": {},
   "outputs": [],
   "source": []
  }
 ],
 "metadata": {
  "kernelspec": {
   "display_name": "Python 3 (ipykernel)",
   "language": "python",
   "name": "python3"
  },
  "language_info": {
   "codemirror_mode": {
    "name": "ipython",
    "version": 3
   },
   "file_extension": ".py",
   "mimetype": "text/x-python",
   "name": "python",
   "nbconvert_exporter": "python",
   "pygments_lexer": "ipython3",
   "version": "3.12.3"
  }
 },
 "nbformat": 4,
 "nbformat_minor": 5
}
