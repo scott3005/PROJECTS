{
 "cells": [
  {
   "cell_type": "code",
   "execution_count": 8,
   "id": "e0cf2196-c793-49c1-b27d-167aa9c71c91",
   "metadata": {},
   "outputs": [
    {
     "name": "stdin",
     "output_type": "stream",
     "text": [
      "enter age: 18\n"
     ]
    },
    {
     "name": "stdout",
     "output_type": "stream",
     "text": [
      "Welcome and Have fun!\n"
     ]
    }
   ],
   "source": [
    "import os \n",
    "import sys\n",
    "\n",
    "\n",
    "age =int(input(\"enter age:\"))\n",
    "print(\"Return your home!\") if age<16 else print(\"Welcome and Have fun!\") if age>=18 else print(\"Please Scan your parent's Id first\")\n"
   ]
  },
  {
   "cell_type": "code",
   "execution_count": null,
   "id": "20c50894-933b-4b35-8918-22f36cdee50d",
   "metadata": {},
   "outputs": [],
   "source": []
  }
 ],
 "metadata": {
  "kernelspec": {
   "display_name": "Python 3 (ipykernel)",
   "language": "python",
   "name": "python3"
  },
  "language_info": {
   "codemirror_mode": {
    "name": "ipython",
    "version": 3
   },
   "file_extension": ".py",
   "mimetype": "text/x-python",
   "name": "python",
   "nbconvert_exporter": "python",
   "pygments_lexer": "ipython3",
   "version": "3.12.3"
  }
 },
 "nbformat": 4,
 "nbformat_minor": 5
}
