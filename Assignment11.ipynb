{
 "cells": [
  {
   "cell_type": "code",
   "execution_count": 1,
   "id": "bee9e222-1ef2-4855-90fa-44c72cdc1267",
   "metadata": {},
   "outputs": [],
   "source": [
    "import os \n",
    "import sys"
   ]
  },
  {
   "cell_type": "code",
   "execution_count": 4,
   "id": "5de04668-9986-4918-a7da-aa693d1086d3",
   "metadata": {},
   "outputs": [
    {
     "name": "stdin",
     "output_type": "stream",
     "text": [
      "enter a year with 4 digit: 2019\n"
     ]
    },
    {
     "name": "stdout",
     "output_type": "stream",
     "text": [
      "2019 is not a leap year\n"
     ]
    }
   ],
   "source": [
    "given_year = input(\"enter a year with 4 digit:\")\n",
    "if len(given_year)>=4:\n",
    "    given_year =int(given_year)\n",
    "    if given_year % 4 ==0 and given_year % 100 ==0 and given_year % 400 ==0:\n",
    "        print(f\"{given_year} is a leap year\")\n",
    "    else:\n",
    "        print(f\"{given_year} is not a leap year\")"
   ]
  },
  {
   "cell_type": "code",
   "execution_count": null,
   "id": "14a3f310-8db2-4bb9-a0da-fef6596fc582",
   "metadata": {},
   "outputs": [],
   "source": []
  }
 ],
 "metadata": {
  "kernelspec": {
   "display_name": "Python 3 (ipykernel)",
   "language": "python",
   "name": "python3"
  },
  "language_info": {
   "codemirror_mode": {
    "name": "ipython",
    "version": 3
   },
   "file_extension": ".py",
   "mimetype": "text/x-python",
   "name": "python",
   "nbconvert_exporter": "python",
   "pygments_lexer": "ipython3",
   "version": "3.12.3"
  }
 },
 "nbformat": 4,
 "nbformat_minor": 5
}
