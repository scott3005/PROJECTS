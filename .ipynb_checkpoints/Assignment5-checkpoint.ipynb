{
 "cells": [
  {
   "cell_type": "code",
   "execution_count": 1,
   "id": "44650fd9-8602-4bd2-8d2b-44a449ec84e4",
   "metadata": {},
   "outputs": [],
   "source": [
    "import os \n",
    "import sys"
   ]
  },
  {
   "cell_type": "code",
   "execution_count": 11,
   "id": "43cdadca-15c8-40c0-acfa-e96409c4553f",
   "metadata": {},
   "outputs": [
    {
     "name": "stdin",
     "output_type": "stream",
     "text": [
      "year: 213\n"
     ]
    },
    {
     "name": "stdout",
     "output_type": "stream",
     "text": [
      "wrong input try again\n"
     ]
    },
    {
     "name": "stdin",
     "output_type": "stream",
     "text": [
      "year: 1233\n"
     ]
    },
    {
     "name": "stdout",
     "output_type": "stream",
     "text": [
      "False\n"
     ]
    }
   ],
   "source": [
    "while 1 :\n",
    "    year = input(\"year:\")\n",
    "    if len(year) == 4 and year.isdigit():\n",
    "        year = int(year)\n",
    "        if year % 4 == 0 and year %100 ==0 and year %400 == 0:\n",
    "            print(True)\n",
    "        else:\n",
    "            print(False)\n",
    "        break\n",
    "    else:\n",
    "        print(\"wrong input try again\")"
   ]
  },
  {
   "cell_type": "code",
   "execution_count": null,
   "id": "feee98e1-1740-4e31-9f06-f9097454ca38",
   "metadata": {},
   "outputs": [],
   "source": []
  }
 ],
 "metadata": {
  "kernelspec": {
   "display_name": "Python 3 (ipykernel)",
   "language": "python",
   "name": "python3"
  },
  "language_info": {
   "codemirror_mode": {
    "name": "ipython",
    "version": 3
   },
   "file_extension": ".py",
   "mimetype": "text/x-python",
   "name": "python",
   "nbconvert_exporter": "python",
   "pygments_lexer": "ipython3",
   "version": "3.12.3"
  }
 },
 "nbformat": 4,
 "nbformat_minor": 5
}
