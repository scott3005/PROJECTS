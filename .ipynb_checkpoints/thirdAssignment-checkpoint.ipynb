{
 "cells": [
  {
   "cell_type": "code",
   "execution_count": 1,
   "id": "cc1e959b-b598-40ef-b1a4-5be85ea26dd9",
   "metadata": {},
   "outputs": [],
   "source": [
    "import os \n",
    "import sys"
   ]
  },
  {
   "cell_type": "code",
   "execution_count": 4,
   "id": "72c0f8c9-effe-49ba-8b47-fbf24f17850a",
   "metadata": {},
   "outputs": [
    {
     "name": "stdin",
     "output_type": "stream",
     "text": [
      "Enter celciues degree 33.2323232\n"
     ]
    },
    {
     "name": "stdout",
     "output_type": "stream",
     "text": [
      "fahrenheit equivelant of C is 91.81818176000002\n"
     ]
    }
   ],
   "source": [
    "celcius_degree = float(input(\"Enter celciues degree\"))\n",
    "F= (celcius_degree*(9/5))+32\n",
    "print(f\"fahrenheit equivelant of C is {F}\")"
   ]
  },
  {
   "cell_type": "code",
   "execution_count": 7,
   "id": "f551391e-8abc-44fc-9b56-bfa4ecddc254",
   "metadata": {},
   "outputs": [
    {
     "name": "stdin",
     "output_type": "stream",
     "text": [
      "enter a distance as kilometer 1.3\n"
     ]
    },
    {
     "name": "stdout",
     "output_type": "stream",
     "text": [
      "meter equivelant of your input is 1300.0\n"
     ]
    }
   ],
   "source": [
    "kilometers = float(input(\"enter a distance as kilometer\"))\n",
    "meters = kilometers*1000.0\n",
    "print(f\"meter equivelant of your input is {meters}\")"
   ]
  },
  {
   "cell_type": "code",
   "execution_count": null,
   "id": "cb821d87-8dd8-4d35-8876-371d7bf71688",
   "metadata": {},
   "outputs": [],
   "source": []
  }
 ],
 "metadata": {
  "kernelspec": {
   "display_name": "Python 3 (ipykernel)",
   "language": "python",
   "name": "python3"
  },
  "language_info": {
   "codemirror_mode": {
    "name": "ipython",
    "version": 3
   },
   "file_extension": ".py",
   "mimetype": "text/x-python",
   "name": "python",
   "nbconvert_exporter": "python",
   "pygments_lexer": "ipython3",
   "version": "3.12.3"
  }
 },
 "nbformat": 4,
 "nbformat_minor": 5
}
