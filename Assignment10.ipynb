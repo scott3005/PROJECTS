{
 "cells": [
  {
   "cell_type": "code",
   "execution_count": 3,
   "id": "20527ae3-1b14-4143-b3d5-66dfaf3cce24",
   "metadata": {},
   "outputs": [],
   "source": [
    "import os \n",
    "import sys"
   ]
  },
  {
   "cell_type": "code",
   "execution_count": 4,
   "id": "47904301-15f9-4640-9e75-f07df234a8ec",
   "metadata": {},
   "outputs": [],
   "source": [
    "questions = [ 'Are you a cigarette addict older than 75 years old?',\n",
    "'Do you have a severe chronic disease? ',\n",
    "'Is your immune system too weak? ',]"
   ]
  },
  {
   "cell_type": "code",
   "execution_count": 40,
   "id": "704fddd2-6237-4206-a62a-a8ade64be531",
   "metadata": {},
   "outputs": [
    {
     "name": "stdin",
     "output_type": "stream",
     "text": [
      "Are you a cigarette addict older than 75 years old? yes/no only:  yes\n",
      "Do you have a severe chronic disease?  yes/no only:  yes\n",
      "Is your immune system too weak?  yes/no only:  yes\n"
     ]
    }
   ],
   "source": [
    "index =0 \n",
    "answers=[]\n",
    "while index<3:\n",
    "    answer = input(questions[index]+\" yes/no only: \")\n",
    "    if answer != \"yes\" and answer != \"no\":\n",
    "        print(\"wrong input try again\")\n",
    "        continue\n",
    "    elif answer ==\"yes\" or answer ==\"no\":\n",
    "        answers.append(True if answer==\"yes\" else False)\n",
    "        index+=1\n",
    "    else:\n",
    "        print(\"something went wrong\")\n"
   ]
  },
  {
   "cell_type": "code",
   "execution_count": 41,
   "id": "b6144034-033c-40b4-8bd0-68672c1414a8",
   "metadata": {},
   "outputs": [
    {
     "name": "stdout",
     "output_type": "stream",
     "text": [
      "You are in risky group\n"
     ]
    }
   ],
   "source": [
    "if (not answers[0] and not answers[1]) and answers[2]:\n",
    "    print(\"You are not in risky group\")\n",
    "elif (not answers[0] and not answers[1] and not answers[2]):\n",
    "    print(\"You are not in risky group\")\n",
    "else:\n",
    "    print(\"You are in risky group\")\n",
    "    "
   ]
  },
  {
   "cell_type": "code",
   "execution_count": null,
   "id": "a2d4ecd4-f564-4ace-8684-08b6d1f2217d",
   "metadata": {},
   "outputs": [],
   "source": []
  }
 ],
 "metadata": {
  "kernelspec": {
   "display_name": "Python 3 (ipykernel)",
   "language": "python",
   "name": "python3"
  },
  "language_info": {
   "codemirror_mode": {
    "name": "ipython",
    "version": 3
   },
   "file_extension": ".py",
   "mimetype": "text/x-python",
   "name": "python",
   "nbconvert_exporter": "python",
   "pygments_lexer": "ipython3",
   "version": "3.12.3"
  }
 },
 "nbformat": 4,
 "nbformat_minor": 5
}
