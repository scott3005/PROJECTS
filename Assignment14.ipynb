{
 "cells": [
  {
   "cell_type": "code",
   "execution_count": 1,
   "id": "e6a3cdba-6ac7-4b0c-92cb-f3c5460899e6",
   "metadata": {},
   "outputs": [],
   "source": [
    "import os \n",
    "import sys"
   ]
  },
  {
   "cell_type": "code",
   "execution_count": 5,
   "id": "f7e48384-f271-4f88-9e44-41efe9b735e7",
   "metadata": {},
   "outputs": [],
   "source": [
    "seq= [ 0 ,1]\n",
    "def calc_seq():\n",
    "    while True:\n",
    "        next_value=seq[-1] + seq[-2]\n",
    "        if next_value<=55:\n",
    "            seq.append(next_value)\n",
    "        else:\n",
    "            break\n",
    "    print(seq)"
   ]
  },
  {
   "cell_type": "code",
   "execution_count": 6,
   "id": "786fcfd1-04aa-4035-8f6b-a14dedcfac1b",
   "metadata": {},
   "outputs": [
    {
     "name": "stdout",
     "output_type": "stream",
     "text": [
      "[0, 1, 1, 2, 3, 5, 8, 13, 21, 34, 55]\n"
     ]
    }
   ],
   "source": [
    "calc_seq()"
   ]
  },
  {
   "cell_type": "code",
   "execution_count": null,
   "id": "3dbe95e6-ecc1-4b93-8df0-8c26046cff98",
   "metadata": {},
   "outputs": [],
   "source": []
  }
 ],
 "metadata": {
  "kernelspec": {
   "display_name": "Python 3 (ipykernel)",
   "language": "python",
   "name": "python3"
  },
  "language_info": {
   "codemirror_mode": {
    "name": "ipython",
    "version": 3
   },
   "file_extension": ".py",
   "mimetype": "text/x-python",
   "name": "python",
   "nbconvert_exporter": "python",
   "pygments_lexer": "ipython3",
   "version": "3.12.3"
  }
 },
 "nbformat": 4,
 "nbformat_minor": 5
}
