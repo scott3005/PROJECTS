{
 "cells": [
  {
   "cell_type": "code",
   "execution_count": 15,
   "id": "22ca3840-0de8-46c5-b556-cf4863fa23da",
   "metadata": {},
   "outputs": [],
   "source": [
    "import os\n",
    "import sys\n",
    "data = [ 5, 'Python',3.14,-2,'Data',True,0,12.5,9,'AI',None,4]\n",
    "students=[\n",
    "{'name':'Ally','score':[42,48]},\n",
    "{'name':'Betty','score':[68,45]},\n",
    "{'name':'Kirbie','score':[90,85]},\n",
    "{'name':'Samuel','score':[35,55]},    \n",
    "]"
   ]
  },
  {
   "cell_type": "code",
   "execution_count": 16,
   "id": "e72dffe1-fb63-4996-98dd-749297b5463a",
   "metadata": {},
   "outputs": [],
   "source": [
    "average=list(map(lambda x: (x['name'],sum(x['score'])/2),students))"
   ]
  },
  {
   "cell_type": "code",
   "execution_count": 17,
   "id": "b6ce3e07-32a7-4c31-8f25-b451c269e93e",
   "metadata": {},
   "outputs": [],
   "source": [
    "pass_if=[ {'name':x[0],'score':x[1],'passed':(\"passed the lesson\" if x[1]>50 else \"failed the lesson\")} for x in average  ]"
   ]
  },
  {
   "cell_type": "code",
   "execution_count": 18,
   "id": "3daa88c3-c70f-4aa8-a7ec-9c638020430f",
   "metadata": {},
   "outputs": [
    {
     "data": {
      "text/plain": [
       "[{'name': 'Ally', 'score': 45.0, 'passed': 'failed the lesson'},\n",
       " {'name': 'Betty', 'score': 56.5, 'passed': 'passed the lesson'},\n",
       " {'name': 'Kirbie', 'score': 87.5, 'passed': 'passed the lesson'},\n",
       " {'name': 'Samuel', 'score': 45.0, 'passed': 'failed the lesson'}]"
      ]
     },
     "execution_count": 18,
     "metadata": {},
     "output_type": "execute_result"
    }
   ],
   "source": [
    "pass_if"
   ]
  },
  {
   "cell_type": "code",
   "execution_count": null,
   "id": "308e6411-bac1-447d-a701-63fd5252fdf9",
   "metadata": {},
   "outputs": [],
   "source": []
  }
 ],
 "metadata": {
  "kernelspec": {
   "display_name": "Python 3 (ipykernel)",
   "language": "python",
   "name": "python3"
  },
  "language_info": {
   "codemirror_mode": {
    "name": "ipython",
    "version": 3
   },
   "file_extension": ".py",
   "mimetype": "text/x-python",
   "name": "python",
   "nbconvert_exporter": "python",
   "pygments_lexer": "ipython3",
   "version": "3.12.3"
  }
 },
 "nbformat": 4,
 "nbformat_minor": 5
}
