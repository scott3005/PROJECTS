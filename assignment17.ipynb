{
 "cells": [
  {
   "cell_type": "code",
   "execution_count": 1,
   "id": "457a21a0-ae06-4d64-878d-a1dc1d023887",
   "metadata": {},
   "outputs": [],
   "source": [
    "import os\n",
    "import sys"
   ]
  },
  {
   "cell_type": "code",
   "execution_count": 6,
   "id": "75604e14-1685-4440-ab68-1db9d444f8b9",
   "metadata": {},
   "outputs": [
    {
     "name": "stdin",
     "output_type": "stream",
     "text": [
      "Enter a sentence:  I will try as hard as it needs and one day I will succeed\n"
     ]
    },
    {
     "data": {
      "text/plain": [
       "{'i': 3,\n",
       " 'n': 3,\n",
       " 'a': 5,\n",
       " 'r': 2,\n",
       " 't': 2,\n",
       " 'I': 2,\n",
       " 'd': 5,\n",
       " 'o': 1,\n",
       " 'c': 2,\n",
       " 'e': 5,\n",
       " 'l': 4,\n",
       " 'y': 2,\n",
       " 'h': 1,\n",
       " 'w': 2,\n",
       " 's': 4,\n",
       " 'u': 1}"
      ]
     },
     "execution_count": 6,
     "metadata": {},
     "output_type": "execute_result"
    }
   ],
   "source": [
    "sentence=input(\"Enter a sentence:\")\n",
    "chars=set(sentence)\n",
    "chars.remove(' ')\n",
    "sentence=list(sentence)\n",
    "freq={}\n",
    "for char in chars:\n",
    "    freq[char]=sentence.count(char)\n",
    "freq\n",
    "    "
   ]
  },
  {
   "cell_type": "code",
   "execution_count": null,
   "id": "25731d47-f047-41ea-a34b-9b6e01788374",
   "metadata": {},
   "outputs": [],
   "source": []
  }
 ],
 "metadata": {
  "kernelspec": {
   "display_name": "Python 3 (ipykernel)",
   "language": "python",
   "name": "python3"
  },
  "language_info": {
   "codemirror_mode": {
    "name": "ipython",
    "version": 3
   },
   "file_extension": ".py",
   "mimetype": "text/x-python",
   "name": "python",
   "nbconvert_exporter": "python",
   "pygments_lexer": "ipython3",
   "version": "3.12.3"
  }
 },
 "nbformat": 4,
 "nbformat_minor": 5
}
