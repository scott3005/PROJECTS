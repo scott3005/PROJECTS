{
 "cells": [
  {
   "cell_type": "code",
   "execution_count": 1,
   "id": "06297ba7-cc92-42e9-b088-dadd3f129421",
   "metadata": {},
   "outputs": [],
   "source": [
    "import os \n",
    "import sys"
   ]
  },
  {
   "cell_type": "code",
   "execution_count": 2,
   "id": "2056a1e3-3ae1-47e4-b04d-999e6401287b",
   "metadata": {},
   "outputs": [],
   "source": [
    "my_money = 1000"
   ]
  },
  {
   "cell_type": "code",
   "execution_count": 3,
   "id": "226e8759-0b67-4766-a96a-88cd44628cd2",
   "metadata": {},
   "outputs": [],
   "source": [
    "for i in range(0,7):\n",
    "    profit = ( my_money * .07)\n",
    "    my_money += profit"
   ]
  },
  {
   "cell_type": "code",
   "execution_count": 4,
   "id": "ce862b54-8b0a-42e3-835d-b55c5b5bccca",
   "metadata": {},
   "outputs": [
    {
     "data": {
      "text/plain": [
       "1605.78147647843"
      ]
     },
     "execution_count": 4,
     "metadata": {},
     "output_type": "execute_result"
    }
   ],
   "source": [
    "my_money"
   ]
  },
  {
   "cell_type": "code",
   "execution_count": null,
   "id": "2d96f2ba-44f3-4c80-a7b4-dc322c06aa22",
   "metadata": {},
   "outputs": [],
   "source": []
  }
 ],
 "metadata": {
  "kernelspec": {
   "display_name": "Python 3 (ipykernel)",
   "language": "python",
   "name": "python3"
  },
  "language_info": {
   "codemirror_mode": {
    "name": "ipython",
    "version": 3
   },
   "file_extension": ".py",
   "mimetype": "text/x-python",
   "name": "python",
   "nbconvert_exporter": "python",
   "pygments_lexer": "ipython3",
   "version": "3.12.3"
  }
 },
 "nbformat": 4,
 "nbformat_minor": 5
}
