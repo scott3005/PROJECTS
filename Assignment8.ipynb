{
 "cells": [
  {
   "cell_type": "code",
   "execution_count": 1,
   "id": "f57af71f-af44-406f-b6ab-6e57f46c6be1",
   "metadata": {},
   "outputs": [],
   "source": [
    "import os \n",
    "import sys"
   ]
  },
  {
   "cell_type": "code",
   "execution_count": 27,
   "id": "1b785b48-cc04-449b-9b84-06d2731140e4",
   "metadata": {},
   "outputs": [
    {
     "name": "stdout",
     "output_type": "stream",
     "text": [
      "False\n",
      "False\n",
      "True\n"
     ]
    }
   ],
   "source": [
    "Left = list('q, w, e, r, t, a, s, d, f, g, z, x, c, v, b'.replace(',','').replace(' ',''))\n",
    "Right = list('y, u, i, o, p, h, j, k, l, n, m'.replace(',','').replace(' ',''))\n",
    "given_words = [ 'tester','polly','clarusway'] \n",
    "def check_if_cf(word):\n",
    "    isleft=bool(all(x in Left for x in list(word)) )\n",
    "    isright=bool(all(x in Right for x in list(word)))\n",
    "    return (not isleft and not isright)\n",
    "for word in given_words:\n",
    "    print(check_if_cf(word))"
   ]
  },
  {
   "cell_type": "code",
   "execution_count": null,
   "id": "ac679322-18ce-4bd5-bb4e-3509c8cb4ce7",
   "metadata": {},
   "outputs": [],
   "source": []
  }
 ],
 "metadata": {
  "kernelspec": {
   "display_name": "Python 3 (ipykernel)",
   "language": "python",
   "name": "python3"
  },
  "language_info": {
   "codemirror_mode": {
    "name": "ipython",
    "version": 3
   },
   "file_extension": ".py",
   "mimetype": "text/x-python",
   "name": "python",
   "nbconvert_exporter": "python",
   "pygments_lexer": "ipython3",
   "version": "3.12.3"
  }
 },
 "nbformat": 4,
 "nbformat_minor": 5
}
